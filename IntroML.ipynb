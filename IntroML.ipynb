{
 "cells": [
  {
   "cell_type": "markdown",
   "metadata": {},
   "source": [
    "# Intro to Machine Learning Notebook - Coders Across Disciplines\n",
    "## Kishan Ramachandran\n",
    "## Fall 2018\n",
    "This notebook is written to help beginners and intermediate programmers get aquainted with Machine learning. This notebook will be split into three broad sections:\n",
    "####    - What is machine learning\n",
    "####    - Types of machine learning\n",
    "####    - Further steps/readings\n",
    "If you have any questions or comments, please contact kishan.ram@utexas.edu\n",
    "# -------------------------------------------\n",
    "# What is machine learning?\n",
    "Machine learning is a useful tool that can help us identify trends or patterns in data that is not easily visible to us. At its core, machine learning is a set of mathematical models that we use to classify data, and then use those models to predict the behavior of any future/new data. \n",
    "### The important takeaway is that machine learning is nothing but the **application of math**, and **using the computer as a tool to do more than we could manually. "
   ]
  },
  {
   "cell_type": "code",
   "execution_count": null,
   "metadata": {},
   "outputs": [],
   "source": []
  }
 ],
 "metadata": {
  "kernelspec": {
   "display_name": "Python 3",
   "language": "python",
   "name": "python3"
  },
  "language_info": {
   "codemirror_mode": {
    "name": "ipython",
    "version": 3
   },
   "file_extension": ".py",
   "mimetype": "text/x-python",
   "name": "python",
   "nbconvert_exporter": "python",
   "pygments_lexer": "ipython3",
   "version": "3.7.0"
  }
 },
 "nbformat": 4,
 "nbformat_minor": 2
}
